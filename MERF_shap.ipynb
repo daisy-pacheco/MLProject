{
  "nbformat": 4,
  "nbformat_minor": 0,
  "metadata": {
    "colab": {
      "name": "MERF_shap.ipynb",
      "provenance": [],
      "collapsed_sections": [],
      "authorship_tag": "ABX9TyNNDoAX1uqLWgJB0VR8dH5j",
      "include_colab_link": true
    },
    "kernelspec": {
      "name": "python3",
      "display_name": "Python 3"
    }
  },
  "cells": [
    {
      "cell_type": "markdown",
      "metadata": {
        "id": "view-in-github",
        "colab_type": "text"
      },
      "source": [
        "<a href=\"https://colab.research.google.com/github/daisy-pacheco/MLProject/blob/master/MERF_shap.ipynb\" target=\"_parent\"><img src=\"https://colab.research.google.com/assets/colab-badge.svg\" alt=\"Open In Colab\"/></a>"
      ]
    },
    {
      "cell_type": "code",
      "metadata": {
        "id": "f9pAC4HQgoSo",
        "colab_type": "code",
        "colab": {}
      },
      "source": [
        "import pandas as pd"
      ],
      "execution_count": 36,
      "outputs": []
    },
    {
      "cell_type": "code",
      "metadata": {
        "id": "csUM3TQkgpi0",
        "colab_type": "code",
        "colab": {
          "base_uri": "https://localhost:8080/",
          "height": 34
        },
        "outputId": "3f63f5e4-67da-45d1-ca09-4a6727c109f1"
      },
      "source": [
        "from google.colab import drive\n",
        "drive.mount('/content/drive', force_remount=True)\n",
        "file_train = \"/content/drive/My Drive/Colab Notebooks/num_train_data.csv\"\n",
        "file_test = \"/content/drive/My Drive/Colab Notebooks/num_test_data.csv\""
      ],
      "execution_count": 37,
      "outputs": [
        {
          "output_type": "stream",
          "text": [
            "Mounted at /content/drive\n"
          ],
          "name": "stdout"
        }
      ]
    },
    {
      "cell_type": "code",
      "metadata": {
        "id": "QDiZ-RN1gpg5",
        "colab_type": "code",
        "colab": {}
      },
      "source": [
        "train = pd.read_csv(file_train)\n",
        "test = pd.read_csv(file_test)"
      ],
      "execution_count": 38,
      "outputs": []
    },
    {
      "cell_type": "code",
      "metadata": {
        "id": "GwdafPY0JvV4",
        "colab_type": "code",
        "colab": {}
      },
      "source": [
        "# most average person\n",
        "\n"
      ],
      "execution_count": 39,
      "outputs": []
    },
    {
      "cell_type": "markdown",
      "metadata": {
        "id": "8jPikHNWgvPn",
        "colab_type": "text"
      },
      "source": [
        "MERF"
      ]
    },
    {
      "cell_type": "code",
      "metadata": {
        "id": "h4BjZSRLgagI",
        "colab_type": "code",
        "colab": {}
      },
      "source": [
        "!pip install -q merf"
      ],
      "execution_count": 40,
      "outputs": []
    },
    {
      "cell_type": "code",
      "metadata": {
        "id": "hreFLzmlgXP-",
        "colab_type": "code",
        "colab": {}
      },
      "source": [
        "from merf import MERF"
      ],
      "execution_count": 41,
      "outputs": []
    },
    {
      "cell_type": "code",
      "metadata": {
        "id": "pKkY8F9iFQxP",
        "colab_type": "code",
        "colab": {}
      },
      "source": [
        "def prep_data(data):\n",
        "  data['Z'] = [1] * len(data)\n",
        "  data['cluster'] = data['id'].str.replace(' _', '').astype(int)\n",
        "  X = data[data.columns.difference(['job_satisfaction', 'id', 'Z', 'cluster', 'Unnamed: 0', 'employer_id'])]\n",
        "  Z = data[['Z']]\n",
        "  clusters = data['cluster']\n",
        "  y = data['job_satisfaction']\n",
        "  return X, Z, clusters, y"
      ],
      "execution_count": 42,
      "outputs": []
    },
    {
      "cell_type": "code",
      "metadata": {
        "id": "NBu3jbICF4hV",
        "colab_type": "code",
        "colab": {}
      },
      "source": [
        "X_train, Z_train, clusters_train, y_train = prep_data(train)\n",
        "X_test, Z_test, clusters_test, y_test = prep_data(test)"
      ],
      "execution_count": 43,
      "outputs": []
    },
    {
      "cell_type": "code",
      "metadata": {
        "id": "d0Mha3G-g3SU",
        "colab_type": "code",
        "colab": {
          "base_uri": "https://localhost:8080/",
          "height": 34
        },
        "outputId": "e82a5147-ea99-4582-a286-9c77414e82fa"
      },
      "source": [
        "# modeling\n",
        "mrf = MERF(max_iterations=5)\n",
        "mrf.fit(X_train, Z_train, clusters_train, y_train)"
      ],
      "execution_count": null,
      "outputs": [
        {
          "output_type": "stream",
          "text": [
            "INFO     [merf.py:307] Training GLL is -699.7504668421072 at iteration 1.\n"
          ],
          "name": "stderr"
        }
      ]
    },
    {
      "cell_type": "code",
      "metadata": {
        "id": "HAKoCoh1n3Ss",
        "colab_type": "code",
        "colab": {}
      },
      "source": [
        "# prediction\n",
        "y_pred = mrf.predict(X_test, Z_test, clusters_test)"
      ],
      "execution_count": null,
      "outputs": []
    },
    {
      "cell_type": "code",
      "metadata": {
        "id": "tYOPKOPOoiY7",
        "colab_type": "code",
        "colab": {}
      },
      "source": [
        "from sklearn.metrics import mean_squared_error\n",
        "from math import sqrt\n",
        "\n",
        "rms = sqrt(mean_squared_error(y_test, y_pred))\n",
        "rms"
      ],
      "execution_count": null,
      "outputs": []
    },
    {
      "cell_type": "markdown",
      "metadata": {
        "id": "-bn9vRTwhIDi",
        "colab_type": "text"
      },
      "source": [
        "SHAP"
      ]
    },
    {
      "cell_type": "code",
      "metadata": {
        "id": "qTQWwVrLhanx",
        "colab_type": "code",
        "colab": {}
      },
      "source": [
        "!pip install -q shap"
      ],
      "execution_count": null,
      "outputs": []
    },
    {
      "cell_type": "code",
      "metadata": {
        "id": "5UT6O9SThFMj",
        "colab_type": "code",
        "colab": {}
      },
      "source": [
        "import shap"
      ],
      "execution_count": null,
      "outputs": []
    },
    {
      "cell_type": "code",
      "metadata": {
        "id": "hVe65ynKhHPY",
        "colab_type": "code",
        "colab": {}
      },
      "source": [
        "explainer = shap.TreeExplainer(mrf.trained_fe_model)"
      ],
      "execution_count": null,
      "outputs": []
    },
    {
      "cell_type": "code",
      "metadata": {
        "id": "7fowBpe3f_Hz",
        "colab_type": "code",
        "colab": {}
      },
      "source": [
        "# reshuffle so not taking just a few participants\n",
        "X_train = X_train.sample(frac = 1)\n",
        "X_train = X_train.reset_index(drop = True)"
      ],
      "execution_count": null,
      "outputs": []
    },
    {
      "cell_type": "code",
      "metadata": {
        "id": "n9bx5Ut7jE3f",
        "colab_type": "code",
        "colab": {}
      },
      "source": [
        "# shap values\n",
        "shap_values = explainer.shap_values(X_train[1:100])"
      ],
      "execution_count": null,
      "outputs": []
    },
    {
      "cell_type": "code",
      "metadata": {
        "id": "WOeRvnYyhLA9",
        "colab_type": "code",
        "colab": {}
      },
      "source": [
        "# feature importance\n",
        "shap.summary_plot(shap_values, X_train[1:100], plot_type=\"bar\")"
      ],
      "execution_count": null,
      "outputs": []
    }
  ]
}